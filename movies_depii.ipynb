{
  "nbformat": 4,
  "nbformat_minor": 0,
  "metadata": {
    "colab": {
      "provenance": [],
      "gpuType": "T4",
      "authorship_tag": "ABX9TyPwcG41sxn7BUfx1bg8Tmq5",
      "include_colab_link": true
    },
    "kernelspec": {
      "name": "python3",
      "display_name": "Python 3"
    },
    "language_info": {
      "name": "python"
    },
    "accelerator": "GPU"
  },
  "cells": [
    {
      "cell_type": "markdown",
      "metadata": {
        "id": "view-in-github",
        "colab_type": "text"
      },
      "source": [
        "<a href=\"https://colab.research.google.com/github/Saramohamed188/DEPI/blob/main/movies_depii.ipynb\" target=\"_parent\"><img src=\"https://colab.research.google.com/assets/colab-badge.svg\" alt=\"Open In Colab\"/></a>"
      ]
    },
    {
      "cell_type": "code",
      "source": [
        "pip install scikit-surprise"
      ],
      "metadata": {
        "colab": {
          "base_uri": "https://localhost:8080/"
        },
        "id": "iTV36hn-vbyN",
        "outputId": "ce2707e4-cda7-42a9-8699-8cf5444a39d3"
      },
      "execution_count": 17,
      "outputs": [
        {
          "output_type": "stream",
          "name": "stdout",
          "text": [
            "Requirement already satisfied: scikit-surprise in /usr/local/lib/python3.10/dist-packages (1.1.4)\n",
            "Requirement already satisfied: joblib>=1.2.0 in /usr/local/lib/python3.10/dist-packages (from scikit-surprise) (1.4.2)\n",
            "Requirement already satisfied: numpy>=1.19.5 in /usr/local/lib/python3.10/dist-packages (from scikit-surprise) (1.26.4)\n",
            "Requirement already satisfied: scipy>=1.6.0 in /usr/local/lib/python3.10/dist-packages (from scikit-surprise) (1.13.1)\n"
          ]
        }
      ]
    },
    {
      "cell_type": "code",
      "execution_count": 18,
      "metadata": {
        "id": "qMJ7skIFqIzN"
      },
      "outputs": [],
      "source": [
        "import pandas as pd\n",
        "import numpy as np\n",
        "from sklearn.metrics.pairwise import cosine_similarity\n",
        "from sklearn.metrics.pairwise import cosine_similarity\n",
        "from sklearn.model_selection import train_test_split\n",
        "from sklearn.metrics import mean_squared_error\n",
        "from math import sqrt\n",
        "import ast\n",
        "from surprise import SVD, Dataset, Reader , accuracy\n",
        "from surprise.model_selection import train_test_split as surprise_train_test_split\n"
      ]
    },
    {
      "cell_type": "code",
      "source": [
        "movies = pd.read_csv('movies_metadata.csv', engine='python', on_bad_lines='skip')\n",
        "\n",
        "irrelevant_columns = ['homepage', 'imdb_id', 'adult', 'video', 'poster_path', 'status', 'tagline', 'overview']\n",
        "movies = movies.drop(irrelevant_columns, axis=1)\n",
        "\n",
        "print(movies.head())\n"
      ],
      "metadata": {
        "colab": {
          "base_uri": "https://localhost:8080/"
        },
        "id": "x4OvUXf8s0Xw",
        "outputId": "e98e3ada-8578-4c44-daaa-7daee580a0f6"
      },
      "execution_count": 19,
      "outputs": [
        {
          "output_type": "stream",
          "name": "stdout",
          "text": [
            "                               belongs_to_collection    budget  \\\n",
            "0  {'id': 10194, 'name': 'Toy Story Collection', ...  30000000   \n",
            "1                                                NaN  65000000   \n",
            "2  {'id': 119050, 'name': 'Grumpy Old Men Collect...         0   \n",
            "3                                                NaN  16000000   \n",
            "4  {'id': 96871, 'name': 'Father of the Bride Col...         0   \n",
            "\n",
            "                                              genres     id original_language  \\\n",
            "0  [{'id': 16, 'name': 'Animation'}, {'id': 35, '...    862                en   \n",
            "1  [{'id': 12, 'name': 'Adventure'}, {'id': 14, '...   8844                en   \n",
            "2  [{'id': 10749, 'name': 'Romance'}, {'id': 35, ...  15602                en   \n",
            "3  [{'id': 35, 'name': 'Comedy'}, {'id': 18, 'nam...  31357                en   \n",
            "4                     [{'id': 35, 'name': 'Comedy'}]  11862                en   \n",
            "\n",
            "                original_title  popularity  \\\n",
            "0                    Toy Story   21.946943   \n",
            "1                      Jumanji   17.015539   \n",
            "2             Grumpier Old Men   11.712900   \n",
            "3            Waiting to Exhale    3.859495   \n",
            "4  Father of the Bride Part II    8.387519   \n",
            "\n",
            "                                production_companies  \\\n",
            "0     [{'name': 'Pixar Animation Studios', 'id': 3}]   \n",
            "1  [{'name': 'TriStar Pictures', 'id': 559}, {'na...   \n",
            "2  [{'name': 'Warner Bros.', 'id': 6194}, {'name'...   \n",
            "3  [{'name': 'Twentieth Century Fox Film Corporat...   \n",
            "4  [{'name': 'Sandollar Productions', 'id': 5842}...   \n",
            "\n",
            "                                production_countries release_date    revenue  \\\n",
            "0  [{'iso_3166_1': 'US', 'name': 'United States o...   1995-10-30  373554033   \n",
            "1  [{'iso_3166_1': 'US', 'name': 'United States o...   1995-12-15  262797249   \n",
            "2  [{'iso_3166_1': 'US', 'name': 'United States o...   1995-12-22          0   \n",
            "3  [{'iso_3166_1': 'US', 'name': 'United States o...   1995-12-22   81452156   \n",
            "4  [{'iso_3166_1': 'US', 'name': 'United States o...   1995-02-10   76578911   \n",
            "\n",
            "   runtime                                   spoken_languages  \\\n",
            "0     81.0           [{'iso_639_1': 'en', 'name': 'English'}]   \n",
            "1    104.0  [{'iso_639_1': 'en', 'name': 'English'}, {'iso...   \n",
            "2    101.0           [{'iso_639_1': 'en', 'name': 'English'}]   \n",
            "3    127.0           [{'iso_639_1': 'en', 'name': 'English'}]   \n",
            "4    106.0           [{'iso_639_1': 'en', 'name': 'English'}]   \n",
            "\n",
            "                         title  vote_average  vote_count  \n",
            "0                    Toy Story           7.7        5415  \n",
            "1                      Jumanji           6.9        2413  \n",
            "2             Grumpier Old Men           6.5          92  \n",
            "3            Waiting to Exhale           6.1          34  \n",
            "4  Father of the Bride Part II           5.7         173  \n"
          ]
        }
      ]
    },
    {
      "cell_type": "code",
      "source": [
        "movies = movies.dropna(subset=['title', 'genres', 'release_date', 'vote_average', 'vote_count'])\n",
        "\n",
        "movies = movies.drop_duplicates()\n",
        "\n",
        "movies['release_date'] = pd.to_datetime(movies['release_date'], errors='coerce')"
      ],
      "metadata": {
        "id": "XqhHqnsRs2pt"
      },
      "execution_count": 20,
      "outputs": []
    },
    {
      "cell_type": "code",
      "source": [
        "movies = movies[movies['vote_count'] > 0]"
      ],
      "metadata": {
        "id": "SkcJSMSPs5Z3"
      },
      "execution_count": 21,
      "outputs": []
    },
    {
      "cell_type": "code",
      "source": [
        "def clean_genres(genres):\n",
        "    try:\n",
        "        genres = ast.literal_eval(genres)\n",
        "        return [genre['name'] for genre in genres]\n",
        "    except:\n",
        "        return []\n",
        "\n",
        "movies['genres'] = movies['genres'].apply(clean_genres)"
      ],
      "metadata": {
        "id": "6w0AW9BXsxKz"
      },
      "execution_count": 22,
      "outputs": []
    },
    {
      "cell_type": "code",
      "source": [
        "movies = movies.join(movies['genres'].str.join('|').str.get_dummies())\n",
        "\n",
        "movies = movies.drop(['genres', 'production_companies', 'production_countries', 'spoken_languages'], axis=1)\n",
        "\n",
        "print(\"Cleaned dataset preview:\\n\", movies.head())\n",
        "print(\"Cleaned dataset info:\\n\", movies.info())\n",
        "\n",
        "movies.to_csv('cleaned_movies_metadata.csv', index=False)"
      ],
      "metadata": {
        "colab": {
          "base_uri": "https://localhost:8080/"
        },
        "id": "sxuKzHKbtAgE",
        "outputId": "4a1aa2a8-3995-468d-f090-b052da29a5fe"
      },
      "execution_count": 23,
      "outputs": [
        {
          "output_type": "stream",
          "name": "stdout",
          "text": [
            "Cleaned dataset preview:\n",
            "                                belongs_to_collection    budget     id  \\\n",
            "0  {'id': 10194, 'name': 'Toy Story Collection', ...  30000000    862   \n",
            "1                                                NaN  65000000   8844   \n",
            "2  {'id': 119050, 'name': 'Grumpy Old Men Collect...         0  15602   \n",
            "3                                                NaN  16000000  31357   \n",
            "4  {'id': 96871, 'name': 'Father of the Bride Col...         0  11862   \n",
            "\n",
            "  original_language               original_title  popularity release_date  \\\n",
            "0                en                    Toy Story   21.946943   1995-10-30   \n",
            "1                en                      Jumanji   17.015539   1995-12-15   \n",
            "2                en             Grumpier Old Men   11.712900   1995-12-22   \n",
            "3                en            Waiting to Exhale    3.859495   1995-12-22   \n",
            "4                en  Father of the Bride Part II    8.387519   1995-02-10   \n",
            "\n",
            "     revenue  runtime                        title  ...  History  Horror  \\\n",
            "0  373554033     81.0                    Toy Story  ...        0       0   \n",
            "1  262797249    104.0                      Jumanji  ...        0       0   \n",
            "2          0    101.0             Grumpier Old Men  ...        0       0   \n",
            "3   81452156    127.0            Waiting to Exhale  ...        0       0   \n",
            "4   76578911    106.0  Father of the Bride Part II  ...        0       0   \n",
            "\n",
            "   Music  Mystery  Romance  Science Fiction  TV Movie  Thriller  War  Western  \n",
            "0      0        0        0                0         0         0    0        0  \n",
            "1      0        0        0                0         0         0    0        0  \n",
            "2      0        0        1                0         0         0    0        0  \n",
            "3      0        0        1                0         0         0    0        0  \n",
            "4      0        0        0                0         0         0    0        0  \n",
            "\n",
            "[5 rows x 32 columns]\n",
            "<class 'pandas.core.frame.DataFrame'>\n",
            "Index: 7472 entries, 0 to 7656\n",
            "Data columns (total 32 columns):\n",
            " #   Column                 Non-Null Count  Dtype         \n",
            "---  ------                 --------------  -----         \n",
            " 0   belongs_to_collection  1134 non-null   object        \n",
            " 1   budget                 7472 non-null   int64         \n",
            " 2   id                     7472 non-null   int64         \n",
            " 3   original_language      7472 non-null   object        \n",
            " 4   original_title         7472 non-null   object        \n",
            " 5   popularity             7472 non-null   float64       \n",
            " 6   release_date           7472 non-null   datetime64[ns]\n",
            " 7   revenue                7472 non-null   int64         \n",
            " 8   runtime                7470 non-null   float64       \n",
            " 9   title                  7472 non-null   object        \n",
            " 10  vote_average           7472 non-null   float64       \n",
            " 11  vote_count             7472 non-null   int64         \n",
            " 12  Action                 7472 non-null   int64         \n",
            " 13  Adventure              7472 non-null   int64         \n",
            " 14  Animation              7472 non-null   int64         \n",
            " 15  Comedy                 7472 non-null   int64         \n",
            " 16  Crime                  7472 non-null   int64         \n",
            " 17  Documentary            7472 non-null   int64         \n",
            " 18  Drama                  7472 non-null   int64         \n",
            " 19  Family                 7472 non-null   int64         \n",
            " 20  Fantasy                7472 non-null   int64         \n",
            " 21  Foreign                7472 non-null   int64         \n",
            " 22  History                7472 non-null   int64         \n",
            " 23  Horror                 7472 non-null   int64         \n",
            " 24  Music                  7472 non-null   int64         \n",
            " 25  Mystery                7472 non-null   int64         \n",
            " 26  Romance                7472 non-null   int64         \n",
            " 27  Science Fiction        7472 non-null   int64         \n",
            " 28  TV Movie               7472 non-null   int64         \n",
            " 29  Thriller               7472 non-null   int64         \n",
            " 30  War                    7472 non-null   int64         \n",
            " 31  Western                7472 non-null   int64         \n",
            "dtypes: datetime64[ns](1), float64(3), int64(24), object(4)\n",
            "memory usage: 2.1+ MB\n",
            "Cleaned dataset info:\n",
            " None\n"
          ]
        }
      ]
    },
    {
      "cell_type": "code",
      "source": [
        "movies['id'] = pd.to_numeric(movies['id'], errors='coerce')\n",
        "movies = movies.dropna(subset=['id'])\n",
        "movies['id'] = movies['id'].astype(int)"
      ],
      "metadata": {
        "id": "igg_MdL6w6Hn"
      },
      "execution_count": 24,
      "outputs": []
    },
    {
      "cell_type": "code",
      "source": [
        "ratings = pd.read_csv('ratings.csv')\n",
        "movie_data = pd.merge(ratings, movies, left_on='movieId', right_on='id')\n",
        "train_data, test_data = train_test_split(movie_data, test_size=0.2)"
      ],
      "metadata": {
        "id": "TQOkktFquTLg"
      },
      "execution_count": 25,
      "outputs": []
    },
    {
      "cell_type": "code",
      "source": [
        "reader = Reader(rating_scale=(1, 5))\n",
        "data = Dataset.load_from_df(movie_data[['userId', 'movieId', 'rating']], reader)\n",
        "trainset, testset = surprise_train_test_split(data, test_size=0.2)"
      ],
      "metadata": {
        "id": "af47nkBdubX7"
      },
      "execution_count": 26,
      "outputs": []
    },
    {
      "cell_type": "code",
      "source": [
        "svd = SVD()\n"
      ],
      "metadata": {
        "id": "0SC6O0yMue5-"
      },
      "execution_count": 27,
      "outputs": []
    },
    {
      "cell_type": "code",
      "source": [
        "svd.fit(trainset)"
      ],
      "metadata": {
        "colab": {
          "base_uri": "https://localhost:8080/"
        },
        "id": "nkqa2SxvxR-i",
        "outputId": "942b6b57-efe9-4e1d-ed7f-04b081c2b46e"
      },
      "execution_count": 28,
      "outputs": [
        {
          "output_type": "execute_result",
          "data": {
            "text/plain": [
              "<surprise.prediction_algorithms.matrix_factorization.SVD at 0x7a73bcc48280>"
            ]
          },
          "metadata": {},
          "execution_count": 28
        }
      ]
    },
    {
      "cell_type": "code",
      "source": [
        "predictions = svd.test(testset)\n",
        "accuracy.rmse(predictions)"
      ],
      "metadata": {
        "colab": {
          "base_uri": "https://localhost:8080/"
        },
        "id": "zQ62rcYwujba",
        "outputId": "4a4bc77a-ce26-4c38-8656-24f341119d65"
      },
      "execution_count": 29,
      "outputs": [
        {
          "output_type": "stream",
          "name": "stdout",
          "text": [
            "RMSE: 0.8849\n"
          ]
        },
        {
          "output_type": "execute_result",
          "data": {
            "text/plain": [
              "0.8848918356477918"
            ]
          },
          "metadata": {},
          "execution_count": 29
        }
      ]
    },
    {
      "cell_type": "code",
      "source": [
        "from sklearn.metrics.pairwise import cosine_similarity\n",
        "metadata_features = movies.drop(['id', 'title', 'vote_average', 'vote_count', 'release_date', 'belongs_to_collection'], axis=1, errors='ignore')\n",
        "\n",
        "metadata_features = metadata_features.apply(pd.to_numeric, errors='coerce')\n",
        "\n",
        "metadata_features = metadata_features.fillna(0)\n",
        "\n",
        "cosine_sim = cosine_similarity(metadata_features, metadata_features)\n",
        "\n"
      ],
      "metadata": {
        "id": "2oDxXSnRxqiQ"
      },
      "execution_count": 30,
      "outputs": []
    },
    {
      "cell_type": "code",
      "source": [
        "print(metadata_features.dtypes)"
      ],
      "metadata": {
        "colab": {
          "base_uri": "https://localhost:8080/"
        },
        "id": "gpcfujP10KBW",
        "outputId": "b655329a-87db-4ccd-a206-28ae92fa93e7"
      },
      "execution_count": 31,
      "outputs": [
        {
          "output_type": "stream",
          "name": "stdout",
          "text": [
            "budget                 int64\n",
            "original_language    float64\n",
            "original_title       float64\n",
            "popularity           float64\n",
            "revenue                int64\n",
            "runtime              float64\n",
            "Action                 int64\n",
            "Adventure              int64\n",
            "Animation              int64\n",
            "Comedy                 int64\n",
            "Crime                  int64\n",
            "Documentary            int64\n",
            "Drama                  int64\n",
            "Family                 int64\n",
            "Fantasy                int64\n",
            "Foreign                int64\n",
            "History                int64\n",
            "Horror                 int64\n",
            "Music                  int64\n",
            "Mystery                int64\n",
            "Romance                int64\n",
            "Science Fiction        int64\n",
            "TV Movie               int64\n",
            "Thriller               int64\n",
            "War                    int64\n",
            "Western                int64\n",
            "dtype: object\n"
          ]
        }
      ]
    },
    {
      "cell_type": "code",
      "source": [
        "def get_recommendations(title, cosine_sim=cosine_sim):\n",
        "    idx = movies[movies['title'] == title].index[0]\n",
        "    sim_scores = list(enumerate(cosine_sim[idx]))\n",
        "    sim_scores = sorted(sim_scores, key=lambda x: x[1], reverse=True)\n",
        "    sim_scores = sim_scores[1:11]\n",
        "    movie_indices = [i[0] for i in sim_scores]\n",
        "    return movies['title'].iloc[movie_indices]\n"
      ],
      "metadata": {
        "id": "xtJHfl3CtiXG"
      },
      "execution_count": 32,
      "outputs": []
    },
    {
      "cell_type": "code",
      "source": [
        "recommendations = get_recommendations('The Godfather')\n",
        "print(\"\\nRecommendations for 'The Godfather':\\n\", recommendations)"
      ],
      "metadata": {
        "colab": {
          "base_uri": "https://localhost:8080/"
        },
        "id": "TNHSHkkYt8VY",
        "outputId": "fddb5e85-ce31-411c-db96-653d51fbae69"
      },
      "execution_count": 33,
      "outputs": [
        {
          "output_type": "stream",
          "name": "stdout",
          "text": [
            "\n",
            "Recommendations for 'The Godfather':\n",
            " 84             Angels and Insects\n",
            "5115                     Spetters\n",
            "7414                The Soft Skin\n",
            "1266           Female Perversions\n",
            "6551    The Other Side of the Bed\n",
            "640                 Moll Flanders\n",
            "403                     8 Seconds\n",
            "2368               My Name Is Joe\n",
            "7337          Pride and Prejudice\n",
            "3329              The Good Mother\n",
            "Name: title, dtype: object\n"
          ]
        }
      ]
    },
    {
      "cell_type": "code",
      "source": [
        "with open('recommendation_evaluation.txt', 'w') as f:\n",
        "    f.write(f\"RMSE of collaborative filtering: {accuracy.rmse(predictions)}\")"
      ],
      "metadata": {
        "colab": {
          "base_uri": "https://localhost:8080/"
        },
        "id": "nKpwVWEdt4q9",
        "outputId": "1565423f-6113-4c24-87e0-4fd9ce107d44"
      },
      "execution_count": 34,
      "outputs": [
        {
          "output_type": "stream",
          "name": "stdout",
          "text": [
            "RMSE: 0.8849\n"
          ]
        }
      ]
    }
  ]
}